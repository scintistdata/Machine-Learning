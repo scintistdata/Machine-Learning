{
 "cells": [
  {
   "cell_type": "markdown",
   "id": "6cd18fd7",
   "metadata": {},
   "source": [
    "# Find Best ML Model To Predict Popularity Of Spotify Musics"
   ]
  },
  {
   "cell_type": "markdown",
   "id": "f01bba7c",
   "metadata": {},
   "source": [
    "### Introduction\n",
    "The following python code, which consist from most famous python Libraries in machin learning researchs, aim to compare some of popular ML model to predict the popularity of spotify musics.\n",
    "the main tree Model which are investigated here are:\n",
    "1.Linear Regression\n",
    "2.Desicion Tree\n",
    "3.Random Forest"
   ]
  },
  {
   "cell_type": "markdown",
   "id": "5507367d",
   "metadata": {},
   "source": [
    "### download and import main libraries to python environment"
   ]
  },
  {
   "cell_type": "code",
   "execution_count": 105,
   "id": "05bc19fa",
   "metadata": {},
   "outputs": [],
   "source": [
    "import pandas as pd\n",
    "import numpy as np\n",
    "import sklearn\n",
    "\n",
    "import matplotlib.pyplot as plt\n",
    "import seaborn as sns\n",
    "%matplotlib inline\n",
    "sns.set_style('darkgrid')"
   ]
  },
  {
   "cell_type": "markdown",
   "id": "b1c78265",
   "metadata": {},
   "source": [
    "### Data\n",
    "\n",
    "The data for this project originates from a Kaggle dataset. Each observation represents an individual song. In the original dataset, there are approximately more than 1 Million rows and 17 columns, though there were some modifications that are discussed in the next section, Exploring the Data. The majority of the features consist of numerical values providing a score on various musical qualities including: loudness, instrumentalness, danceability, liveness and other similar descriptors. Other columns consist of simple string objects, some of which were dropped. Finally, the last column, the target column, lists a popularity score between 0 and 100 for each song. Here's a sample of how the data is structured."
   ]
  },
  {
   "cell_type": "code",
   "execution_count": 124,
   "id": "6a31c867",
   "metadata": {},
   "outputs": [],
   "source": [
    "spotify = pd.read_csv('spotify_data.csv')\n",
    "\n",
    "\n",
    "# Create the sorted dataframe\n",
    "sort_data = spotify.sort_values('popularity', ascending=False).reset_index()\n",
    "spotify_ordered = sort_data.drop(['index', 'track_id','genre'], axis=1)\n",
    "spotify_ordered.index = spotify_ordered.index + 1\n",
    "\n",
    "#  drop zeros from our DataSet\n",
    "spotify_ordered = spotify_ordered[spotify_ordered.popularity > 0]\n",
    "\n",
    "\n",
    "# spotify_ordered.head()"
   ]
  },
  {
   "cell_type": "markdown",
   "id": "4a74b6d9",
   "metadata": {},
   "source": [
    "### Visualization\n",
    "Now that the data is loaded and shaped, it's important to get an understanding of the different variables, in particular the target variable. First, here's a plot to visualize the distribution of the target variable values."
   ]
  },
  {
   "cell_type": "code",
   "execution_count": 108,
   "id": "bbfe2b2c",
   "metadata": {},
   "outputs": [
    {
     "data": {
      "image/png": "[encoded data removed]",
      "text/plain": [
       "<Figure size 800x500 with 1 Axes>"
      ]
     },
     "metadata": {},
     "output_type": "display_data"
    }
   ],
   "source": [
    "fig, ax = plt.subplots(1,1, figsize=(8,5))\n",
    "_ = spotify_ordered['popularity'].plot(kind='hist', bins=50)\n",
    "_ = plt.xlabel('Popularity')\n",
    "_ = plt.title('Popularity Distribution', fontsize=14)"
   ]
  },
  {
   "cell_type": "markdown",
   "id": "add83786",
   "metadata": {},
   "source": [
    "##  statistical moments for the popularity column."
   ]
  },
  {
   "cell_type": "code",
   "execution_count": 109,
   "id": "fed466f4",
   "metadata": {},
   "outputs": [
    {
     "data": {
      "text/html": [
       "<div>\n",
       "<style scoped>\n",
       "    .dataframe tbody tr th:only-of-type {\n",
       "        vertical-align: middle;\n",
       "    }\n",
       "\n",
       "    .dataframe tbody tr th {\n",
       "        vertical-align: top;\n",
       "    }\n",
       "\n",
       "    .dataframe thead th {\n",
       "        text-align: right;\n",
       "    }\n",
       "</style>\n",
       "<table border=\"1\" class=\"dataframe\">\n",
       "  <thead>\n",
       "    <tr style=\"text-align: right;\">\n",
       "      <th></th>\n",
       "      <th>popularity</th>\n",
       "    </tr>\n",
       "  </thead>\n",
       "  <tbody>\n",
       "    <tr>\n",
       "      <th>count</th>\n",
       "      <td>1.001373e+06</td>\n",
       "    </tr>\n",
       "    <tr>\n",
       "      <th>mean</th>\n",
       "      <td>2.129085e+01</td>\n",
       "    </tr>\n",
       "    <tr>\n",
       "      <th>std</th>\n",
       "      <td>1.517754e+01</td>\n",
       "    </tr>\n",
       "    <tr>\n",
       "      <th>min</th>\n",
       "      <td>1.000000e+00</td>\n",
       "    </tr>\n",
       "    <tr>\n",
       "      <th>25%</th>\n",
       "      <td>9.000000e+00</td>\n",
       "    </tr>\n",
       "    <tr>\n",
       "      <th>50%</th>\n",
       "      <td>1.800000e+01</td>\n",
       "    </tr>\n",
       "    <tr>\n",
       "      <th>75%</th>\n",
       "      <td>3.100000e+01</td>\n",
       "    </tr>\n",
       "    <tr>\n",
       "      <th>max</th>\n",
       "      <td>1.000000e+02</td>\n",
       "    </tr>\n",
       "  </tbody>\n",
       "</table>\n",
       "</div>"
      ],
      "text/plain": [
       "         popularity\n",
       "count  1.001373e+06\n",
       "mean   2.129085e+01\n",
       "std    1.517754e+01\n",
       "min    1.000000e+00\n",
       "25%    9.000000e+00\n",
       "50%    1.800000e+01\n",
       "75%    3.100000e+01\n",
       "max    1.000000e+02"
      ]
     },
     "execution_count": 109,
     "metadata": {},
     "output_type": "execute_result"
    }
   ],
   "source": [
    "spotify_ordered[['popularity']].describe()\n"
   ]
  },
  {
   "cell_type": "markdown",
   "id": "f0ec1122",
   "metadata": {},
   "source": [
    "Even with the zero values dropped, the popularity scores are heavily weighted towards the bottom of the scale, and the distribution tapers off severely as it moves towards the higher popularity values. To study this dynamic further, we can look at the statistical moments for the popularity column.\n",
    "From the above we can see the low measures of centrality. The mean and median are both in the 20s and the IQR only extends to 41. Even songs of a medium popularity as defined in the classified dataset would be fairly rare. "
   ]
  },
  {
   "cell_type": "markdown",
   "id": "01f31c30",
   "metadata": {},
   "source": [
    "## Correlations\n",
    "\n",
    "Having examined the target variable, we can now examine the rest of the features and see how they correlate with each other, in particular how they correlate with the popularity column.\n",
    "\n"
   ]
  },
  {
   "cell_type": "code",
   "execution_count": 110,
   "id": "6c2fa020",
   "metadata": {
    "scrolled": true
   },
   "outputs": [
    {
     "data": {
      "text/html": [
       "<div>\n",
       "<style scoped>\n",
       "    .dataframe tbody tr th:only-of-type {\n",
       "        vertical-align: middle;\n",
       "    }\n",
       "\n",
       "    .dataframe tbody tr th {\n",
       "        vertical-align: top;\n",
       "    }\n",
       "\n",
       "    .dataframe thead th {\n",
       "        text-align: right;\n",
       "    }\n",
       "</style>\n",
       "<table border=\"1\" class=\"dataframe\">\n",
       "  <thead>\n",
       "    <tr style=\"text-align: right;\">\n",
       "      <th></th>\n",
       "      <th>Unnamed: 0</th>\n",
       "      <th>popularity</th>\n",
       "      <th>year</th>\n",
       "      <th>danceability</th>\n",
       "      <th>energy</th>\n",
       "      <th>key</th>\n",
       "      <th>loudness</th>\n",
       "      <th>mode</th>\n",
       "      <th>speechiness</th>\n",
       "      <th>acousticness</th>\n",
       "      <th>instrumentalness</th>\n",
       "      <th>liveness</th>\n",
       "      <th>valence</th>\n",
       "      <th>tempo</th>\n",
       "      <th>duration_ms</th>\n",
       "      <th>time_signature</th>\n",
       "    </tr>\n",
       "  </thead>\n",
       "  <tbody>\n",
       "    <tr>\n",
       "      <th>Unnamed: 0</th>\n",
       "      <td>1.000000</td>\n",
       "      <td>-0.180029</td>\n",
       "      <td>-0.515492</td>\n",
       "      <td>-0.025294</td>\n",
       "      <td>0.001764</td>\n",
       "      <td>0.003502</td>\n",
       "      <td>-0.008456</td>\n",
       "      <td>0.020578</td>\n",
       "      <td>-0.018954</td>\n",
       "      <td>0.008038</td>\n",
       "      <td>-0.017159</td>\n",
       "      <td>0.015764</td>\n",
       "      <td>0.069089</td>\n",
       "      <td>-0.001732</td>\n",
       "      <td>0.039895</td>\n",
       "      <td>0.000370</td>\n",
       "    </tr>\n",
       "    <tr>\n",
       "      <th>popularity</th>\n",
       "      <td>-0.180029</td>\n",
       "      <td>1.000000</td>\n",
       "      <td>0.330474</td>\n",
       "      <td>0.128300</td>\n",
       "      <td>-0.005227</td>\n",
       "      <td>0.002968</td>\n",
       "      <td>0.089483</td>\n",
       "      <td>-0.029699</td>\n",
       "      <td>-0.035673</td>\n",
       "      <td>-0.048313</td>\n",
       "      <td>-0.143145</td>\n",
       "      <td>-0.076398</td>\n",
       "      <td>-0.004357</td>\n",
       "      <td>0.000062</td>\n",
       "      <td>-0.118347</td>\n",
       "      <td>0.027100</td>\n",
       "    </tr>\n",
       "    <tr>\n",
       "      <th>year</th>\n",
       "      <td>-0.515492</td>\n",
       "      <td>0.330474</td>\n",
       "      <td>1.000000</td>\n",
       "      <td>0.044924</td>\n",
       "      <td>0.005772</td>\n",
       "      <td>-0.003703</td>\n",
       "      <td>0.016963</td>\n",
       "      <td>-0.030933</td>\n",
       "      <td>0.031124</td>\n",
       "      <td>-0.012113</td>\n",
       "      <td>0.035994</td>\n",
       "      <td>-0.021036</td>\n",
       "      <td>-0.104189</td>\n",
       "      <td>0.017283</td>\n",
       "      <td>-0.087225</td>\n",
       "      <td>0.001949</td>\n",
       "    </tr>\n",
       "    <tr>\n",
       "      <th>danceability</th>\n",
       "      <td>-0.025294</td>\n",
       "      <td>0.128300</td>\n",
       "      <td>0.044924</td>\n",
       "      <td>1.000000</td>\n",
       "      <td>0.131769</td>\n",
       "      <td>0.030002</td>\n",
       "      <td>0.262387</td>\n",
       "      <td>-0.053428</td>\n",
       "      <td>0.089268</td>\n",
       "      <td>-0.162568</td>\n",
       "      <td>-0.207397</td>\n",
       "      <td>-0.113480</td>\n",
       "      <td>0.525106</td>\n",
       "      <td>-0.033472</td>\n",
       "      <td>-0.055442</td>\n",
       "      <td>0.178899</td>\n",
       "    </tr>\n",
       "    <tr>\n",
       "      <th>energy</th>\n",
       "      <td>0.001764</td>\n",
       "      <td>-0.005227</td>\n",
       "      <td>0.005772</td>\n",
       "      <td>0.131769</td>\n",
       "      <td>1.000000</td>\n",
       "      <td>0.037817</td>\n",
       "      <td>0.784381</td>\n",
       "      <td>-0.056947</td>\n",
       "      <td>0.121568</td>\n",
       "      <td>-0.751262</td>\n",
       "      <td>-0.219758</td>\n",
       "      <td>0.199459</td>\n",
       "      <td>0.257497</td>\n",
       "      <td>0.262902</td>\n",
       "      <td>0.006074</td>\n",
       "      <td>0.173244</td>\n",
       "    </tr>\n",
       "    <tr>\n",
       "      <th>key</th>\n",
       "      <td>0.003502</td>\n",
       "      <td>0.002968</td>\n",
       "      <td>-0.003703</td>\n",
       "      <td>0.030002</td>\n",
       "      <td>0.037817</td>\n",
       "      <td>1.000000</td>\n",
       "      <td>0.027732</td>\n",
       "      <td>-0.163631</td>\n",
       "      <td>0.013109</td>\n",
       "      <td>-0.033328</td>\n",
       "      <td>-0.004350</td>\n",
       "      <td>-0.004324</td>\n",
       "      <td>0.027432</td>\n",
       "      <td>0.008739</td>\n",
       "      <td>0.006534</td>\n",
       "      <td>0.010424</td>\n",
       "    </tr>\n",
       "    <tr>\n",
       "      <th>loudness</th>\n",
       "      <td>-0.008456</td>\n",
       "      <td>0.089483</td>\n",
       "      <td>0.016963</td>\n",
       "      <td>0.262387</td>\n",
       "      <td>0.784381</td>\n",
       "      <td>0.027732</td>\n",
       "      <td>1.000000</td>\n",
       "      <td>-0.021836</td>\n",
       "      <td>0.025995</td>\n",
       "      <td>-0.633849</td>\n",
       "      <td>-0.431553</td>\n",
       "      <td>0.094644</td>\n",
       "      <td>0.300634</td>\n",
       "      <td>0.234755</td>\n",
       "      <td>-0.049333</td>\n",
       "      <td>0.176463</td>\n",
       "    </tr>\n",
       "    <tr>\n",
       "      <th>mode</th>\n",
       "      <td>0.020578</td>\n",
       "      <td>-0.029699</td>\n",
       "      <td>-0.030933</td>\n",
       "      <td>-0.053428</td>\n",
       "      <td>-0.056947</td>\n",
       "      <td>-0.163631</td>\n",
       "      <td>-0.021836</td>\n",
       "      <td>1.000000</td>\n",
       "      <td>-0.023164</td>\n",
       "      <td>0.071922</td>\n",
       "      <td>-0.055933</td>\n",
       "      <td>0.025091</td>\n",
       "      <td>0.015917</td>\n",
       "      <td>-0.004954</td>\n",
       "      <td>-0.040358</td>\n",
       "      <td>-0.018394</td>\n",
       "    </tr>\n",
       "    <tr>\n",
       "      <th>speechiness</th>\n",
       "      <td>-0.018954</td>\n",
       "      <td>-0.035673</td>\n",
       "      <td>0.031124</td>\n",
       "      <td>0.089268</td>\n",
       "      <td>0.121568</td>\n",
       "      <td>0.013109</td>\n",
       "      <td>0.025995</td>\n",
       "      <td>-0.023164</td>\n",
       "      <td>1.000000</td>\n",
       "      <td>0.034125</td>\n",
       "      <td>-0.147003</td>\n",
       "      <td>0.287557</td>\n",
       "      <td>0.041276</td>\n",
       "      <td>-0.034756</td>\n",
       "      <td>-0.066919</td>\n",
       "      <td>-0.032244</td>\n",
       "    </tr>\n",
       "    <tr>\n",
       "      <th>acousticness</th>\n",
       "      <td>0.008038</td>\n",
       "      <td>-0.048313</td>\n",
       "      <td>-0.012113</td>\n",
       "      <td>-0.162568</td>\n",
       "      <td>-0.751262</td>\n",
       "      <td>-0.033328</td>\n",
       "      <td>-0.633849</td>\n",
       "      <td>0.071922</td>\n",
       "      <td>0.034125</td>\n",
       "      <td>1.000000</td>\n",
       "      <td>0.137653</td>\n",
       "      <td>-0.038565</td>\n",
       "      <td>-0.117523</td>\n",
       "      <td>-0.237614</td>\n",
       "      <td>-0.059623</td>\n",
       "      <td>-0.170758</td>\n",
       "    </tr>\n",
       "    <tr>\n",
       "      <th>instrumentalness</th>\n",
       "      <td>-0.017159</td>\n",
       "      <td>-0.143145</td>\n",
       "      <td>0.035994</td>\n",
       "      <td>-0.207397</td>\n",
       "      <td>-0.219758</td>\n",
       "      <td>-0.004350</td>\n",
       "      <td>-0.431553</td>\n",
       "      <td>-0.055933</td>\n",
       "      <td>-0.147003</td>\n",
       "      <td>0.137653</td>\n",
       "      <td>1.000000</td>\n",
       "      <td>-0.128911</td>\n",
       "      <td>-0.329422</td>\n",
       "      <td>-0.045397</td>\n",
       "      <td>0.153786</td>\n",
       "      <td>-0.067703</td>\n",
       "    </tr>\n",
       "    <tr>\n",
       "      <th>liveness</th>\n",
       "      <td>0.015764</td>\n",
       "      <td>-0.076398</td>\n",
       "      <td>-0.021036</td>\n",
       "      <td>-0.113480</td>\n",
       "      <td>0.199459</td>\n",
       "      <td>-0.004324</td>\n",
       "      <td>0.094644</td>\n",
       "      <td>0.025091</td>\n",
       "      <td>0.287557</td>\n",
       "      <td>-0.038565</td>\n",
       "      <td>-0.128911</td>\n",
       "      <td>1.000000</td>\n",
       "      <td>0.010604</td>\n",
       "      <td>-0.000919</td>\n",
       "      <td>0.001030</td>\n",
       "      <td>-0.017815</td>\n",
       "    </tr>\n",
       "    <tr>\n",
       "      <th>valence</th>\n",
       "      <td>0.069089</td>\n",
       "      <td>-0.004357</td>\n",
       "      <td>-0.104189</td>\n",
       "      <td>0.525106</td>\n",
       "      <td>0.257497</td>\n",
       "      <td>0.027432</td>\n",
       "      <td>0.300634</td>\n",
       "      <td>0.015917</td>\n",
       "      <td>0.041276</td>\n",
       "      <td>-0.117523</td>\n",
       "      <td>-0.329422</td>\n",
       "      <td>0.010604</td>\n",
       "      <td>1.000000</td>\n",
       "      <td>0.078090</td>\n",
       "      <td>-0.145086</td>\n",
       "      <td>0.121479</td>\n",
       "    </tr>\n",
       "    <tr>\n",
       "      <th>tempo</th>\n",
       "      <td>-0.001732</td>\n",
       "      <td>0.000062</td>\n",
       "      <td>0.017283</td>\n",
       "      <td>-0.033472</td>\n",
       "      <td>0.262902</td>\n",
       "      <td>0.008739</td>\n",
       "      <td>0.234755</td>\n",
       "      <td>-0.004954</td>\n",
       "      <td>-0.034756</td>\n",
       "      <td>-0.237614</td>\n",
       "      <td>-0.045397</td>\n",
       "      <td>-0.000919</td>\n",
       "      <td>0.078090</td>\n",
       "      <td>1.000000</td>\n",
       "      <td>0.001686</td>\n",
       "      <td>0.050493</td>\n",
       "    </tr>\n",
       "    <tr>\n",
       "      <th>duration_ms</th>\n",
       "      <td>0.039895</td>\n",
       "      <td>-0.118347</td>\n",
       "      <td>-0.087225</td>\n",
       "      <td>-0.055442</td>\n",
       "      <td>0.006074</td>\n",
       "      <td>0.006534</td>\n",
       "      <td>-0.049333</td>\n",
       "      <td>-0.040358</td>\n",
       "      <td>-0.066919</td>\n",
       "      <td>-0.059623</td>\n",
       "      <td>0.153786</td>\n",
       "      <td>0.001030</td>\n",
       "      <td>-0.145086</td>\n",
       "      <td>0.001686</td>\n",
       "      <td>1.000000</td>\n",
       "      <td>0.007823</td>\n",
       "    </tr>\n",
       "    <tr>\n",
       "      <th>time_signature</th>\n",
       "      <td>0.000370</td>\n",
       "      <td>0.027100</td>\n",
       "      <td>0.001949</td>\n",
       "      <td>0.178899</td>\n",
       "      <td>0.173244</td>\n",
       "      <td>0.010424</td>\n",
       "      <td>0.176463</td>\n",
       "      <td>-0.018394</td>\n",
       "      <td>-0.032244</td>\n",
       "      <td>-0.170758</td>\n",
       "      <td>-0.067703</td>\n",
       "      <td>-0.017815</td>\n",
       "      <td>0.121479</td>\n",
       "      <td>0.050493</td>\n",
       "      <td>0.007823</td>\n",
       "      <td>1.000000</td>\n",
       "    </tr>\n",
       "  </tbody>\n",
       "</table>\n",
       "</div>"
      ],
      "text/plain": [
       "                  Unnamed: 0  popularity      year  danceability    energy  \\\n",
       "Unnamed: 0          1.000000   -0.180029 -0.515492     -0.025294  0.001764   \n",
       "popularity         -0.180029    1.000000  0.330474      0.128300 -0.005227   \n",
       "year               -0.515492    0.330474  1.000000      0.044924  0.005772   \n",
       "danceability       -0.025294    0.128300  0.044924      1.000000  0.131769   \n",
       "energy              0.001764   -0.005227  0.005772      0.131769  1.000000   \n",
       "key                 0.003502    0.002968 -0.003703      0.030002  0.037817   \n",
       "loudness           -0.008456    0.089483  0.016963      0.262387  0.784381   \n",
       "mode                0.020578   -0.029699 -0.030933     -0.053428 -0.056947   \n",
       "speechiness        -0.018954   -0.035673  0.031124      0.089268  0.121568   \n",
       "acousticness        0.008038   -0.048313 -0.012113     -0.162568 -0.751262   \n",
       "instrumentalness   -0.017159   -0.143145  0.035994     -0.207397 -0.219758   \n",
       "liveness            0.015764   -0.076398 -0.021036     -0.113480  0.199459   \n",
       "valence             0.069089   -0.004357 -0.104189      0.525106  0.257497   \n",
       "tempo              -0.001732    0.000062  0.017283     -0.033472  0.262902   \n",
       "duration_ms         0.039895   -0.118347 -0.087225     -0.055442  0.006074   \n",
       "time_signature      0.000370    0.027100  0.001949      0.178899  0.173244   \n",
       "\n",
       "                       key  loudness      mode  speechiness  acousticness  \\\n",
       "Unnamed: 0        0.003502 -0.008456  0.020578    -0.018954      0.008038   \n",
       "popularity        0.002968  0.089483 -0.029699    -0.035673     -0.048313   \n",
       "year             -0.003703  0.016963 -0.030933     0.031124     -0.012113   \n",
       "danceability      0.030002  0.262387 -0.053428     0.089268     -0.162568   \n",
       "energy            0.037817  0.784381 -0.056947     0.121568     -0.751262   \n",
       "key               1.000000  0.027732 -0.163631     0.013109     -0.033328   \n",
       "loudness          0.027732  1.000000 -0.021836     0.025995     -0.633849   \n",
       "mode             -0.163631 -0.021836  1.000000    -0.023164      0.071922   \n",
       "speechiness       0.013109  0.025995 -0.023164     1.000000      0.034125   \n",
       "acousticness     -0.033328 -0.633849  0.071922     0.034125      1.000000   \n",
       "instrumentalness -0.004350 -0.431553 -0.055933    -0.147003      0.137653   \n",
       "liveness         -0.004324  0.094644  0.025091     0.287557     -0.038565   \n",
       "valence           0.027432  0.300634  0.015917     0.041276     -0.117523   \n",
       "tempo             0.008739  0.234755 -0.004954    -0.034756     -0.237614   \n",
       "duration_ms       0.006534 -0.049333 -0.040358    -0.066919     -0.059623   \n",
       "time_signature    0.010424  0.176463 -0.018394    -0.032244     -0.170758   \n",
       "\n",
       "                  instrumentalness  liveness   valence     tempo  duration_ms  \\\n",
       "Unnamed: 0               -0.017159  0.015764  0.069089 -0.001732     0.039895   \n",
       "popularity               -0.143145 -0.076398 -0.004357  0.000062    -0.118347   \n",
       "year                      0.035994 -0.021036 -0.104189  0.017283    -0.087225   \n",
       "danceability             -0.207397 -0.113480  0.525106 -0.033472    -0.055442   \n",
       "energy                   -0.219758  0.199459  0.257497  0.262902     0.006074   \n",
       "key                      -0.004350 -0.004324  0.027432  0.008739     0.006534   \n",
       "loudness                 -0.431553  0.094644  0.300634  0.234755    -0.049333   \n",
       "mode                     -0.055933  0.025091  0.015917 -0.004954    -0.040358   \n",
       "speechiness              -0.147003  0.287557  0.041276 -0.034756    -0.066919   \n",
       "acousticness              0.137653 -0.038565 -0.117523 -0.237614    -0.059623   \n",
       "instrumentalness          1.000000 -0.128911 -0.329422 -0.045397     0.153786   \n",
       "liveness                 -0.128911  1.000000  0.010604 -0.000919     0.001030   \n",
       "valence                  -0.329422  0.010604  1.000000  0.078090    -0.145086   \n",
       "tempo                    -0.045397 -0.000919  0.078090  1.000000     0.001686   \n",
       "duration_ms               0.153786  0.001030 -0.145086  0.001686     1.000000   \n",
       "time_signature           -0.067703 -0.017815  0.121479  0.050493     0.007823   \n",
       "\n",
       "                  time_signature  \n",
       "Unnamed: 0              0.000370  \n",
       "popularity              0.027100  \n",
       "year                    0.001949  \n",
       "danceability            0.178899  \n",
       "energy                  0.173244  \n",
       "key                     0.010424  \n",
       "loudness                0.176463  \n",
       "mode                   -0.018394  \n",
       "speechiness            -0.032244  \n",
       "acousticness           -0.170758  \n",
       "instrumentalness       -0.067703  \n",
       "liveness               -0.017815  \n",
       "valence                 0.121479  \n",
       "tempo                   0.050493  \n",
       "duration_ms             0.007823  \n",
       "time_signature          1.000000  "
      ]
     },
     "execution_count": 110,
     "metadata": {},
     "output_type": "execute_result"
    }
   ],
   "source": [
    "spotify_ordered.corr()\n"
   ]
  },
  {
   "cell_type": "markdown",
   "id": "2128b54a",
   "metadata": {},
   "source": [
    "### Heatmap of the correlation table for better visualization"
   ]
  },
  {
   "cell_type": "code",
   "execution_count": 111,
   "id": "4013cdfa",
   "metadata": {},
   "outputs": [
    {
     "data": {
      "image/png": "[encoded data removed]",
      "text/plain": [
       "<Figure size 1000x600 with 2 Axes>"
      ]
     },
     "metadata": {},
     "output_type": "display_data"
    }
   ],
   "source": [
    "fig, ax = plt.subplots(1,1, figsize=(10,6))\n",
    "_ = sns.heatmap(spotify_ordered.corr(), square=True, cmap='YlOrRd')\n",
    "_ = plt.title('Correlation heat map', fontsize=14)\n",
    "_ = plt.xticks(fontsize=12)\n",
    "_ = plt.yticks(fontsize=12)"
   ]
  },
  {
   "cell_type": "markdown",
   "id": "06552350",
   "metadata": {},
   "source": [
    "From the above chart and heatmap, the correlations are mostly pretty weak. Energy, loudness and danceability have fairly strong relationships, which makes sense, and acousticness is naturally opposed to loudness and energy, but there's not much to go on outside of those. Unfortunately, this trend appears to hold true for the popularity variable. The correlation between loudness and popularity looks positive, but it would be nice to have a dependent variable that strongly relates to the target variable.\n",
    "\n"
   ]
  },
  {
   "cell_type": "markdown",
   "id": "8cf4a75e",
   "metadata": {},
   "source": [
    "## Modeling\n",
    "This sections outlines the steps used to find the best algorithm for predicting popularity"
   ]
  },
  {
   "cell_type": "markdown",
   "id": "d7a6ac89",
   "metadata": {},
   "source": [
    "### Linear Regression\n"
   ]
  },
  {
   "cell_type": "code",
   "execution_count": 128,
   "id": "2c6dbf59",
   "metadata": {},
   "outputs": [],
   "source": [
    "from sklearn.linear_model import LinearRegression\n",
    "from sklearn.model_selection import train_test_split\n",
    "\n",
    "# Set random state\n",
    "state=25\n",
    "\n",
    "# Shuffle the data\n",
    "reg_data = spotify_ordered.sample(frac=1, random_state=state).reset_index(drop=True)\n",
    "\n",
    "# First, try without categoricals\n",
    "X = reg_data.select_dtypes(include='number').drop('popularity', axis=1)\n",
    "y = reg_data.popularity\n",
    "\n",
    "# Split into train and test sets\n",
    "X_train, X_test, y_train, y_test = train_test_split(X, y, test_size=0.25, random_state=state)"
   ]
  },
  {
   "cell_type": "markdown",
   "id": "941017db",
   "metadata": {},
   "source": [
    "Now that the data has been split with train_test_split, we can fit the training data and calculate the R2 score. This process, and all the similar ones to follow, is timed to get an understanding of the computational requirements for each model.\n",
    "\n"
   ]
  },
  {
   "cell_type": "markdown",
   "id": "dd8e0444",
   "metadata": {},
   "source": [
    "In addition to the standard R2 score, I also created a custom loss function to give a more concrete perspective on the model performance. This function, `custom_loss`, calculates counts for different levels of error between the predicted values and the actual test values, and also gives an overall average of the differences between predicted and actual."
   ]
  },
  {
   "cell_type": "code",
   "execution_count": 129,
   "id": "95e15dad",
   "metadata": {},
   "outputs": [],
   "source": [
    "def custom_loss(prediction, actual):\n",
    "    paired = zip(prediction, actual)\n",
    "    listed = list(paired)\n",
    "    diffs = {'Under five': 0, 'Five to ten': 0, 'Over ten': 0, 'Average error': 0}\n",
    "    sum = 0\n",
    "\n",
    "    for pair in listed:\n",
    "        sum += abs(pair[0] - pair[1])\n",
    "        if abs(pair[0] - pair[1]) < 5:\n",
    "            diffs['Under five'] += 1\n",
    "        elif 5 <= abs(pair[0] - pair[1]) < 10:\n",
    "            diffs['Five to ten'] += 1\n",
    "        else:\n",
    "            diffs['Over ten'] += 1\n",
    "            \n",
    "    diffs['Average error'] = sum / len(listed)\n",
    "     \n",
    "    return diffs"
   ]
  },
  {
   "cell_type": "code",
   "execution_count": 130,
   "id": "4e3058be",
   "metadata": {},
   "outputs": [
    {
     "name": "stdout",
     "output_type": "stream",
     "text": [
      "0.16584450272781492\n",
      "CPU times: total: 1.06 s\n",
      "Wall time: 764 ms\n"
     ]
    },
    {
     "data": {
      "text/plain": [
       "{'Under five': 65312,\n",
       " 'Five to ten': 63638,\n",
       " 'Over ten': 121394,\n",
       " 'Average error': 11.122593656682483}"
      ]
     },
     "execution_count": 130,
     "metadata": {},
     "output_type": "execute_result"
    }
   ],
   "source": [
    "%%time\n",
    "\n",
    "linreg = LinearRegression()\n",
    "linreg.fit(X_train, y_train)\n",
    "\n",
    "lin_pred = linreg.predict(X_test)\n",
    "\n",
    "print(linreg.score(X_test, y_test))\n",
    "\n",
    "custom_loss(lin_pred, y_test)\n"
   ]
  },
  {
   "cell_type": "markdown",
   "id": "66c4ed12",
   "metadata": {},
   "source": [
    "The score for the model above is not very good. On the other hand, the custom metric isn't as bad as the score would lead one to believe. There may be over 121000 predictions well off the mark, but a good many were reasonably accurate, and the average difference isn't terrible."
   ]
  },
  {
   "cell_type": "markdown",
   "id": "02f5f430",
   "metadata": {},
   "source": [
    "## Classification"
   ]
  },
  {
   "cell_type": "markdown",
   "id": "6e4ff04a",
   "metadata": {},
   "source": [
    "### Adding a new column\n",
    "The linear regression models were ineffective, so we eventually decided to tackle this problem using a classification approach. To do so, we split the observations into three classes based on the popularity scores: unpopular for scores up to 50, medium for 51 to 74, and popular for 75 and above.\n",
    "Below is the code to set up and inspect the new column specifying the labels."
   ]
  },
  {
   "cell_type": "code",
   "execution_count": 107,
   "id": "40ca14ca",
   "metadata": {},
   "outputs": [],
   "source": [
    "classified = spotify_ordered.copy()\n",
    "classified['pop_rating'] = ''\n",
    "\n",
    "for i, row in classified.iterrows():\n",
    "    score = 'unpopular'\n",
    "    if (row.popularity > 50) & (row.popularity < 75):\n",
    "        score = 'medium'\n",
    "    elif row.popularity >= 75:\n",
    "        score = 'popular'\n",
    "    classified.at[i, 'pop_rating'] = score\n",
    "    \n",
    "    \n",
    "# Inspect the new column\n",
    "# classified[['track_name', 'popularity', 'pop_rating']].head(3)"
   ]
  },
  {
   "cell_type": "markdown",
   "id": "75ea70a7",
   "metadata": {},
   "source": [
    "### Class counts\n",
    "\n",
    "The different classes in the classified dataset exhibit a high level of imbalance. This needs to be accounted for in order to ensure the models perform as well as possible. Here's a visualization of the disparity.\n",
    "\n",
    "\n"
   ]
  },
  {
   "cell_type": "code",
   "execution_count": 115,
   "id": "5e82e47e",
   "metadata": {},
   "outputs": [
    {
     "data": {
      "image/png": "[encoded data removed]",
      "text/plain": [
       "<Figure size 800x500 with 1 Axes>"
      ]
     },
     "metadata": {},
     "output_type": "display_data"
    }
   ],
   "source": [
    "fig, ax = plt.subplots(1,1, figsize=(8,5))\n",
    "_ = sns.countplot(x='pop_rating', data=classified)\n",
    "_ = plt.xlabel('Ratings', fontsize=14)\n",
    "_ = plt.title('Counts', fontsize=14)"
   ]
  },
  {
   "cell_type": "markdown",
   "id": "42f0761d",
   "metadata": {},
   "source": [
    "Next, we create a separate dataframe with all the observations for each label, and then split each of those into train and test splits. All of the training splits and then all of the test splits are then stitched together so that all labels are represented in the data. Importantly, the popularity column is dropped completely to ensure that it is not included as a training feature.\n",
    "\n"
   ]
  },
  {
   "cell_type": "code",
   "execution_count": 137,
   "id": "bec4c4be",
   "metadata": {},
   "outputs": [
    {
     "data": {
      "text/html": [
       "<div>\n",
       "<style scoped>\n",
       "    .dataframe tbody tr th:only-of-type {\n",
       "        vertical-align: middle;\n",
       "    }\n",
       "\n",
       "    .dataframe tbody tr th {\n",
       "        vertical-align: top;\n",
       "    }\n",
       "\n",
       "    .dataframe thead th {\n",
       "        text-align: right;\n",
       "    }\n",
       "</style>\n",
       "<table border=\"1\" class=\"dataframe\">\n",
       "  <thead>\n",
       "    <tr style=\"text-align: right;\">\n",
       "      <th></th>\n",
       "      <th>Unnamed: 0</th>\n",
       "      <th>popularity</th>\n",
       "      <th>year</th>\n",
       "      <th>danceability</th>\n",
       "      <th>energy</th>\n",
       "      <th>key</th>\n",
       "      <th>loudness</th>\n",
       "      <th>mode</th>\n",
       "      <th>speechiness</th>\n",
       "      <th>acousticness</th>\n",
       "      <th>instrumentalness</th>\n",
       "      <th>liveness</th>\n",
       "      <th>valence</th>\n",
       "      <th>tempo</th>\n",
       "      <th>duration_ms</th>\n",
       "      <th>time_signature</th>\n",
       "      <th>pop_rating</th>\n",
       "    </tr>\n",
       "  </thead>\n",
       "  <tbody>\n",
       "    <tr>\n",
       "      <th>1</th>\n",
       "      <td>612503</td>\n",
       "      <td>100</td>\n",
       "      <td>2023</td>\n",
       "      <td>0.707</td>\n",
       "      <td>0.681</td>\n",
       "      <td>0</td>\n",
       "      <td>-4.325</td>\n",
       "      <td>1</td>\n",
       "      <td>0.0668</td>\n",
       "      <td>0.0632</td>\n",
       "      <td>0.000005</td>\n",
       "      <td>0.0322</td>\n",
       "      <td>0.646</td>\n",
       "      <td>117.999</td>\n",
       "      <td>200455</td>\n",
       "      <td>4</td>\n",
       "      <td>popular</td>\n",
       "    </tr>\n",
       "    <tr>\n",
       "      <th>2</th>\n",
       "      <td>605178</td>\n",
       "      <td>96</td>\n",
       "      <td>2023</td>\n",
       "      <td>0.778</td>\n",
       "      <td>0.632</td>\n",
       "      <td>2</td>\n",
       "      <td>-5.600</td>\n",
       "      <td>0</td>\n",
       "      <td>0.0493</td>\n",
       "      <td>0.2740</td>\n",
       "      <td>0.000000</td>\n",
       "      <td>0.0915</td>\n",
       "      <td>0.498</td>\n",
       "      <td>122.104</td>\n",
       "      <td>218289</td>\n",
       "      <td>4</td>\n",
       "      <td>popular</td>\n",
       "    </tr>\n",
       "    <tr>\n",
       "      <th>3</th>\n",
       "      <td>612504</td>\n",
       "      <td>95</td>\n",
       "      <td>2023</td>\n",
       "      <td>0.531</td>\n",
       "      <td>0.525</td>\n",
       "      <td>1</td>\n",
       "      <td>-6.500</td>\n",
       "      <td>0</td>\n",
       "      <td>0.0671</td>\n",
       "      <td>0.2320</td>\n",
       "      <td>0.000000</td>\n",
       "      <td>0.4410</td>\n",
       "      <td>0.502</td>\n",
       "      <td>66.900</td>\n",
       "      <td>232857</td>\n",
       "      <td>4</td>\n",
       "      <td>popular</td>\n",
       "    </tr>\n",
       "    <tr>\n",
       "      <th>4</th>\n",
       "      <td>569184</td>\n",
       "      <td>94</td>\n",
       "      <td>2022</td>\n",
       "      <td>0.644</td>\n",
       "      <td>0.735</td>\n",
       "      <td>8</td>\n",
       "      <td>-5.747</td>\n",
       "      <td>1</td>\n",
       "      <td>0.0391</td>\n",
       "      <td>0.0521</td>\n",
       "      <td>0.144000</td>\n",
       "      <td>0.1610</td>\n",
       "      <td>0.418</td>\n",
       "      <td>88.980</td>\n",
       "      <td>153947</td>\n",
       "      <td>4</td>\n",
       "      <td>popular</td>\n",
       "    </tr>\n",
       "    <tr>\n",
       "      <th>5</th>\n",
       "      <td>569195</td>\n",
       "      <td>93</td>\n",
       "      <td>2022</td>\n",
       "      <td>0.835</td>\n",
       "      <td>0.679</td>\n",
       "      <td>7</td>\n",
       "      <td>-5.329</td>\n",
       "      <td>0</td>\n",
       "      <td>0.0364</td>\n",
       "      <td>0.5830</td>\n",
       "      <td>0.000002</td>\n",
       "      <td>0.2180</td>\n",
       "      <td>0.850</td>\n",
       "      <td>124.980</td>\n",
       "      <td>162638</td>\n",
       "      <td>4</td>\n",
       "      <td>popular</td>\n",
       "    </tr>\n",
       "  </tbody>\n",
       "</table>\n",
       "</div>"
      ],
      "text/plain": [
       "   Unnamed: 0  popularity  year  danceability  energy  key  loudness  mode  \\\n",
       "1      612503         100  2023         0.707   0.681    0    -4.325     1   \n",
       "2      605178          96  2023         0.778   0.632    2    -5.600     0   \n",
       "3      612504          95  2023         0.531   0.525    1    -6.500     0   \n",
       "4      569184          94  2022         0.644   0.735    8    -5.747     1   \n",
       "5      569195          93  2022         0.835   0.679    7    -5.329     0   \n",
       "\n",
       "   speechiness  acousticness  instrumentalness  liveness  valence    tempo  \\\n",
       "1       0.0668        0.0632          0.000005    0.0322    0.646  117.999   \n",
       "2       0.0493        0.2740          0.000000    0.0915    0.498  122.104   \n",
       "3       0.0671        0.2320          0.000000    0.4410    0.502   66.900   \n",
       "4       0.0391        0.0521          0.144000    0.1610    0.418   88.980   \n",
       "5       0.0364        0.5830          0.000002    0.2180    0.850  124.980   \n",
       "\n",
       "   duration_ms  time_signature pop_rating  \n",
       "1       200455               4    popular  \n",
       "2       218289               4    popular  \n",
       "3       232857               4    popular  \n",
       "4       153947               4    popular  \n",
       "5       162638               4    popular  "
      ]
     },
     "execution_count": 137,
     "metadata": {},
     "output_type": "execute_result"
    }
   ],
   "source": [
    "from sklearn.model_selection import train_test_split\n",
    "\n",
    "df_pop = df[df.pop_rating == 'popular']\n",
    "\n",
    "df_med = df[df.pop_rating == 'medium']\n",
    "\n",
    "df_unpop = df[df.pop_rating == 'unpopular']\n",
    "\n",
    "# Set random seed\n",
    "state=25\n",
    "\n",
    "X_tr_p, X_ts_p, y_tr_p, y_ts_p = train_test_split(df_pop.drop(['popularity', 'pop_rating'], axis=1),\\\n",
    "                                                 df_pop.pop_rating, test_size=0.15, random_state=state)\n",
    "\n",
    "X_tr_m, X_ts_m, y_tr_m, y_ts_m = train_test_split(df_med.drop(['popularity', 'pop_rating'], axis=1),\\\n",
    "                                                 df_med.pop_rating, test_size=0.15, random_state=state)\n",
    "\n",
    "X_tr_up, X_ts_up, y_tr_up, y_ts_up = train_test_split(df_unpop.drop(['popularity', 'pop_rating'], axis=1),\\\n",
    "                                                 df_unpop.pop_rating, test_size=0.15, random_state=state)\n",
    "\n",
    "\n",
    "df.head()"
   ]
  },
  {
   "cell_type": "code",
   "execution_count": 138,
   "id": "f077658b",
   "metadata": {},
   "outputs": [
    {
     "data": {
      "text/plain": [
       "(851166, 16)"
      ]
     },
     "execution_count": 138,
     "metadata": {},
     "output_type": "execute_result"
    }
   ],
   "source": [
    "pop_train = pd.concat([X_tr_p, y_tr_p], axis=1)\n",
    "med_train = pd.concat([X_tr_m, y_tr_m], axis=1)\n",
    "unpop_train = pd.concat([X_tr_up, y_tr_up], axis=1)\n",
    "\n",
    "training = pd.concat([pop_train, med_train, unpop_train], axis=0)\n",
    "\n",
    "training = training.sample(frac=1, random_state=state).reset_index(drop=True)\n",
    "\n",
    "# Popularity has been removed, so only 30 columns\n",
    "# training.head()\n",
    "training.shape"
   ]
  },
  {
   "cell_type": "markdown",
   "id": "26c7bac4",
   "metadata": {},
   "source": [
    "The same process above is now executed with the final test data.\n",
    "\n"
   ]
  },
  {
   "cell_type": "code",
   "execution_count": 134,
   "id": "3bf2ff12",
   "metadata": {},
   "outputs": [
    {
     "data": {
      "text/plain": [
       "(150207, 16)"
      ]
     },
     "execution_count": 134,
     "metadata": {},
     "output_type": "execute_result"
    }
   ],
   "source": [
    "pop_test = pd.concat([X_ts_p, y_ts_p], axis=1)\n",
    "med_test = pd.concat([X_ts_m, y_ts_m], axis=1)\n",
    "unpop_test = pd.concat([X_ts_up, y_ts_up], axis=1)\n",
    "\n",
    "final_test = pd.concat([pop_test, med_test, unpop_test], axis=0)\n",
    "\n",
    "final_test = final_test.sample(frac=1, random_state=state).reset_index(drop=True)\n",
    "\n",
    "final_test.shape"
   ]
  },
  {
   "cell_type": "markdown",
   "id": "22b36875",
   "metadata": {},
   "source": [
    "## Train and validation sets\n",
    "\n",
    "Before actually diving into the models, the training data needs to be further split into training and validation sets to allow testing without using the final test set.\n",
    "\n",
    "\n"
   ]
  },
  {
   "cell_type": "code",
   "execution_count": 135,
   "id": "e5ecb75b",
   "metadata": {},
   "outputs": [],
   "source": [
    "X_class = training.drop('pop_rating', axis=1)\n",
    "y_class = training.pop_rating\n",
    "\n",
    "X_train, X_test, y_train, y_test = train_test_split(X_class, y_class, test_size=0.25, random_state=state)"
   ]
  },
  {
   "cell_type": "markdown",
   "id": "7d88e637",
   "metadata": {},
   "source": [
    "## Desicion Tree \n",
    "\n",
    "To start off simple, we first ran a basic decision tree classifier. \n"
   ]
  },
  {
   "cell_type": "code",
   "execution_count": 136,
   "id": "f8888f7d",
   "metadata": {},
   "outputs": [
    {
     "name": "stdout",
     "output_type": "stream",
     "text": [
      "0.9480901537651791\n",
      "CPU times: total: 28.2 s\n",
      "Wall time: 28.6 s\n"
     ]
    }
   ],
   "source": [
    "%%time\n",
    "\n",
    "from sklearn.tree import DecisionTreeClassifier\n",
    "from sklearn.metrics import accuracy_score\n",
    "\n",
    "# Basic decision tree\n",
    "dt = DecisionTreeClassifier(max_depth=20, random_state=state)\n",
    "dt.fit(X_train, y_train)\n",
    "\n",
    "pred = dt.predict(X_test)\n",
    "\n",
    "print(accuracy_score(pred, y_test))"
   ]
  },
  {
   "cell_type": "markdown",
   "id": "ba22ee26",
   "metadata": {},
   "source": [
    "## Random Forest\n",
    "\n",
    "Taking the tree models a step further, we next ran Random Forest.\n",
    "\n"
   ]
  },
  {
   "cell_type": "code",
   "execution_count": 38,
   "id": "652a4c71",
   "metadata": {},
   "outputs": [
    {
     "name": "stdout",
     "output_type": "stream",
     "text": [
      "0.9533582089552238\n",
      "CPU times: total: 10min 11s\n",
      "Wall time: 10min 20s\n"
     ]
    }
   ],
   "source": [
    "%%time\n",
    "\n",
    "from sklearn.ensemble import RandomForestClassifier\n",
    "\n",
    "rf = RandomForestClassifier(n_estimators=100, random_state=state)\n",
    "rf.fit(X_train, y_train)\n",
    "\n",
    "rf_pred = rf.predict(X_test)\n",
    "\n",
    "print(accuracy_score(rf_pred, y_test))"
   ]
  },
  {
   "cell_type": "markdown",
   "id": "1b56865f",
   "metadata": {},
   "source": [
    "Below is a chart ranking the features in level of importance for the random forests model.\n",
    "\n"
   ]
  },
  {
   "cell_type": "code",
   "execution_count": 121,
   "id": "39a7083a",
   "metadata": {},
   "outputs": [
    {
     "data": {
      "image/png": "[encoded data removed]",
      "text/plain": [
       "<Figure size 1000x800 with 1 Axes>"
      ]
     },
     "metadata": {},
     "output_type": "display_data"
    }
   ],
   "source": [
    "important = pd.Series(data=rf.feature_importances_, index=X_train.columns).sort_values()\n",
    "\n",
    "fig = plt.subplots(figsize=(10,8))\n",
    "_ = important.plot(kind='barh')\n",
    "_ = plt.title('RF feature importances', fontsize=14)"
   ]
  },
  {
   "cell_type": "markdown",
   "id": "6487a29f",
   "metadata": {},
   "source": [
    "As the table indicated, duration and loudness are the most important variable, followed by danceability. Somewhat surprising is that duration is ranked so highly. However, popular songs do tend to be of similar durations, and very long songs might hinder repeat listens, so it seems plausible that duration is important. "
   ]
  },
  {
   "cell_type": "markdown",
   "id": "88cb08f0",
   "metadata": {},
   "source": [
    "## Conclusions\n",
    "\n",
    "For the regression algorithms, there isn't much accuracy in any case. As for the classification models, the difference depends on the metric. When it comes to basic accuracy they all performed more or less the same. The random forest model is slightly more precise than the rest,althoug it takes so much time to execute. Based on the results above, I think it's clear that the Random Forest model is the best choice."
   ]
  }
 ],
 "metadata": {
  "kernelspec": {
   "display_name": "Python 3 (ipykernel)",
   "language": "python",
   "name": "python3"
  },
  "language_info": {
   "codemirror_mode": {
    "name": "ipython",
    "version": 3
   },
   "file_extension": ".py",
   "mimetype": "text/x-python",
   "name": "python",
   "nbconvert_exporter": "python",
   "pygments_lexer": "ipython3",
   "version": "3.10.5"
  }
 },
 "nbformat": 4,
 "nbformat_minor": 5
}
